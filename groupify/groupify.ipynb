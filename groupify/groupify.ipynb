{
 "nbformat": 4,
 "nbformat_minor": 2,
 "metadata": {
  "language_info": {
   "name": "python",
   "codemirror_mode": {
    "name": "ipython",
    "version": 3
   },
   "version": "3.8.2-final"
  },
  "orig_nbformat": 2,
  "file_extension": ".py",
  "mimetype": "text/x-python",
  "name": "python",
  "npconvert_exporter": "python",
  "pygments_lexer": "ipython3",
  "version": 3,
  "kernelspec": {
   "name": "python38264bit21dde0d3f50941958c323ec7bf57e9ad",
   "display_name": "Python 3.8.2 64-bit"
  }
 },
 "cells": [
  {
   "cell_type": "code",
   "execution_count": 2,
   "metadata": {},
   "outputs": [],
   "source": [
    "# Reads txt file with names, and returns names in list format\n",
    "def createNameList(file):\n",
    "    f = open(file, 'r')\n",
    "    if f.mode == 'r':\n",
    "        contents = f.read()\n",
    "    nameList = contents.rstrip().split(\"\\n\")\n",
    "    return nameList\n"
   ]
  },
  {
   "cell_type": "code",
   "execution_count": 3,
   "metadata": {},
   "outputs": [],
   "source": [
    "import random\n",
    "\n",
    "def shuffleNameList(nameList):\n",
    "    random.shuffle(nameList) # this code shuffles the input, but returns \"None\"\n",
    "    return nameList # We have to return the original, now shuffled, list"
   ]
  },
  {
   "cell_type": "code",
   "execution_count": 4,
   "metadata": {},
   "outputs": [
    {
     "name": "stdout",
     "output_type": "stream",
     "text": "['Shaah Cooper', 'Jaelyn Taylor', 'Pat Sullivan', 'Rachel McLean', 'Joseph Richards', 'Jalen Staples', 'Satchel Moore', 'Christos Koumpotis', 'Kendahl Ross', 'Keith Ng', 'Lily Korir', 'Jason Zheng', 'Chloe deBeus', 'Will Smith']\n"
    }
   ],
   "source": [
    "print(shuffleNameList(createNameList('./names.txt')))"
   ]
  },
  {
   "cell_type": "code",
   "execution_count": 5,
   "metadata": {},
   "outputs": [],
   "source": [
    "def groupify(shuffledNameList, groupSizes):\n",
    "    allGroups = []\n",
    "    for i in range(len(shuffledNameList)):\n",
    "        group = []\n",
    "        for j in range(len(groupSizes[i])):\n",
    "            group.append(shuffledNameList.pop([0]))\n",
    "        allGroups.append(group)\n",
    "    return allGroups"
   ]
  },
  {
   "cell_type": "code",
   "execution_count": 6,
   "metadata": {},
   "outputs": [],
   "source": [
    "def sizeGroups(totalNum, maxSize):\n",
    "    smallerSize = maxSize - 1\n",
    "    groupSizes = []\n",
    "\n",
    "    workingNum = totalNum\n",
    "    from math import floor\n",
    "    i = floor(totalNum/maxSize)\n",
    "    while i > 0:\n",
    "        workingNum = totalNum - maxSize*i\n",
    "        if workingNum % maxSize == 0:\n",
    "            for j in range(i):\n",
    "                groupSizes.append(maxSize)\n",
    "            while workingNum > 0:\n",
    "                groupSizes.append(smallerSize)\n",
    "                workingNum -= smallerSize\n",
    "            return groupSizes\n",
    "        i -= 1\n",
    "    raise ValueError('This max size doesn\\'nt give reasonable groups!')          "
   ]
  },
  {
   "cell_type": "code",
   "execution_count": 8,
   "metadata": {},
   "outputs": [],
   "source": [
    "def sizeGroups2(totalNum, numGroups):\n",
    "    groupSizes = []\n",
    "    if totalNum % numGroups == 0:\n",
    "        for i in range(numGroups):\n",
    "            groupSizes.append(totalNum/numGroups)\n",
    "        return groupSizes\n",
    "    \n",
    "    workingNum = totalNum\n",
    "    from math import ceil\n",
    "    from math import floor\n",
    "\n",
    "    maxPossibleSize = ceil(totalNum/numGroups)\n",
    "    smallerPossibleSize = maxPossibleSize - 1\n",
    "    if smallerPossibleSize < 2:\n",
    "        raise ValueError('This number of groups isn\\'t reasonable!')\n",
    "    i = floor(totalNum/maxPossibleSize)\n",
    "    while i > 0:\n",
    "        workingNum = totalNum - maxPossibleSize*i\n",
    "        if workingNum % maxPossibleSize == 0 and i + workingNum/smallerPossibleSize == numGroups:\n",
    "            for j in range(i):\n",
    "                groupSizes.append(maxPossibleSize)\n",
    "            while workingNum > 0:\n",
    "                groupSizes.append(smallerPossibleSize)\n",
    "                workingNum -= smallerPossibleSize\n",
    "            return groupSizes\n",
    "        i -= 1\n",
    "    "
   ]
  },
  {
   "cell_type": "code",
   "execution_count": null,
   "metadata": {},
   "outputs": [],
   "source": [
    "nameList = createNameList('names.txt')\n",
    "totalNum = len(nameList)\n",
    "namesRandom = shuffleNameList(nameList)\n",
    "\n",
    "groups = groupify(namesRandom, )"
   ]
  }
 ]
}